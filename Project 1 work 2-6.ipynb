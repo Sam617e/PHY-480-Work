{
 "cells": [
  {
   "cell_type": "code",
   "execution_count": null,
   "metadata": {
    "collapsed": true
   },
   "outputs": [],
   "source": [
    "n=10;"
   ]
  },
  {
   "cell_type": "code",
   "execution_count": 1,
   "metadata": {
    "collapsed": false
   },
   "outputs": [],
   "source": [
    "import numpy as np\n",
    "import sympy as sy\n",
    "import scipy\n",
    "from scipy import linalg\n",
    "import matplotlib.pyplot as plt\n",
    "%matplotlib inline\n",
    "\n",
    "\n",
    "#Returns the Tridiagonal Matrix special to our problem, with 2's and -1's.\n",
    "def SpecialMatrix():\n",
    "    T = np.zeros((n, n))\n",
    "    for i in range(0,n):\n",
    "        T[[i],[i]] = 2\n",
    "        if i < n-1:\n",
    "            T[[i],[i+1]] = -1\n",
    "            T[[i+1],[i]] = -1\n",
    "        else:\n",
    "            break;\n",
    "    return T\n",
    "\n",
    "#Returns a random Tridiagonal matrix, with no zeros on the three diagonals.\n",
    "#Also generates it in a way that takes care of a fringe case in forward substitution that causes division by zero\n",
    "def RandomTriMatrix():\n",
    "    T = np.zeros((n, n))\n",
    "    for i in range(0,n):\n",
    "        T[[i],[i]] = int(np.random.uniform(1,9))\n",
    "        if i < n-1:\n",
    "            T[[i],[i+1]] = int(np.random.uniform(1,9))\n",
    "            T[[i+1],[i]] = int(np.random.uniform(1,9))\n",
    "        else:\n",
    "            break;\n",
    "    for i in range(1,n):\n",
    "        if T[i][i] == (T[i][i-1]*T[i-1][i])/(T[i-1][i-1]):\n",
    "            T[[i],[i]] = int(np.random.uniform(1,9))\n",
    "        else:\n",
    "            T[i][i] = T[i][i]    \n",
    "    return T\n",
    "\n",
    "\n",
    "#Returns the vector \"b~\" as shown in Problem 1a\n",
    "def h2DiscFncVec():\n",
    "    f = np.zeros(n)\n",
    "    for i in range(0,n):\n",
    "        f[i] += 100*(np.e)**(-10*(i+1)/(n))\n",
    "    return f\n",
    "\n",
    "#Returns the discretized form of the function \"u\" given to us in problem 1a, multiplied by 1/(h^2)\n",
    "def h2SoluVec():\n",
    "    u = np.zeros(n)\n",
    "    for i in range(0,n):\n",
    "        u[i] += 1-(1-((np.e)**(-10)))*((i+1)/(n))-(np.e)**((-10*(i+1))/(n))\n",
    "    return u\n",
    "\n",
    "\n",
    "#Turns a tridiagonal matrix into an upper-triangular matrix through row operations\n",
    "#also applies these row operations to the discretized function vector \"b~\"\n",
    "def TriForwardSub(M, f):\n",
    "    for i in range(0,n-1):\n",
    "        f[i+1] += -(M[i+1][i]/M[i][i])*f[i]\n",
    "        M[i+1] += -((M[i+1][i])/(M[i][i]))*M[i]\n",
    "#    for i in range(0,n):\n",
    "#        for j in range(0,n):\n",
    "#            M[i][j] = round(M[i][j],2)\n",
    "    return M, f\n",
    "\n",
    "#Faster forward substitution for the special matrix on our problem\n",
    "def SpecialForwardSub(M, f):\n",
    "    for i in range(0,n-1):\n",
    "        x = ((i+1)/(i+2))\n",
    "        f[i+1] += x*f[i]\n",
    "        M[i+1] += x*M[i]\n",
    "#    for i in range(0,n):\n",
    "#        for j in range(0,n):\n",
    "#            M[i][j] = round(M[i][j],2)\n",
    "    return M, f\n",
    "\n",
    "#Solves for and prints the solution vector \"u\" that solves Au = b~\n",
    "def TriBackSub(M, f):\n",
    "    u = np.zeros(n)\n",
    "    u[n-1] = f[n-1]/M[n-1][n-1]\n",
    "    for i in range(n-2,-1,-1):\n",
    "        u[i] = (f[i]-(M[i][i+1])*u[i+1])/(M[i][i]);\n",
    "    for i in range(0,n):\n",
    "        u[i] = u[i]/(n**2)\n",
    "    return u\n",
    "\n",
    "#Faster backward substitution for the special matrix on our problem\n",
    "def SpecialBackSub(M, f):\n",
    "    u = np.zeros(n)\n",
    "    u[n-1] = f[n-1]/M[n-1][n-1]\n",
    "    for i in range(n-2,-1,-1):\n",
    "        u[i] = (f[i]+u[i+1])/(M[i][i]);\n",
    "    for i in range(0,n):\n",
    "        u[i] = u[i]/(n**2)\n",
    "    return u"
   ]
  },
  {
   "cell_type": "code",
   "execution_count": 389,
   "metadata": {
    "collapsed": true
   },
   "outputs": [],
   "source": [
    "#P = RandomMatrix()\n",
    "#L_P = scipy.linalg.lu(P)[1]\n",
    "#U_P = scipy.linalg.lu(P)[2]\n",
    "#L_P.dot(U_P)"
   ]
  },
  {
   "cell_type": "code",
   "execution_count": 339,
   "metadata": {
    "collapsed": false
   },
   "outputs": [],
   "source": [
    "n=10;\n",
    "S = SpecialMatrix()\n",
    "f = h2DiscFncVec()\n",
    "TriForwardSub(S,f)\n",
    "TriBackSub(S,f)\n",
    "u1 = TriBackSub(S,f)"
   ]
  },
  {
   "cell_type": "code",
   "execution_count": 340,
   "metadata": {
    "collapsed": false
   },
   "outputs": [],
   "source": [
    "u1Range = np.zeros(n)\n",
    "for i in range(0,n):\n",
    "    u1Range[i] = (i)/(n)"
   ]
  },
  {
   "cell_type": "code",
   "execution_count": 341,
   "metadata": {
    "collapsed": true
   },
   "outputs": [],
   "source": [
    "n=100;\n",
    "S = SpecialMatrix()\n",
    "f = h2DiscFncVec()\n",
    "TriForwardSub(S,f)\n",
    "TriBackSub(S,f)\n",
    "u2 = TriBackSub(S,f)"
   ]
  },
  {
   "cell_type": "code",
   "execution_count": 342,
   "metadata": {
    "collapsed": true
   },
   "outputs": [],
   "source": [
    "u2Range = np.zeros(n)\n",
    "for i in range(0,n):\n",
    "    u2Range[i] = (i)/(n)"
   ]
  },
  {
   "cell_type": "code",
   "execution_count": 347,
   "metadata": {
    "collapsed": true
   },
   "outputs": [],
   "source": [
    "n=1000;\n",
    "S = SpecialMatrix()\n",
    "f = h2DiscFncVec()\n",
    "TriForwardSub(S,f)\n",
    "TriBackSub(S,f)\n",
    "u3 = TriBackSub(S,f)"
   ]
  },
  {
   "cell_type": "code",
   "execution_count": 348,
   "metadata": {
    "collapsed": true
   },
   "outputs": [],
   "source": [
    "u3Range = np.zeros(n)\n",
    "for i in range(0,n):\n",
    "    u3Range[i] = (i)/(n)"
   ]
  },
  {
   "cell_type": "code",
   "execution_count": 352,
   "metadata": {
    "collapsed": false
   },
   "outputs": [
    {
     "data": {
      "text/plain": [
       "[<matplotlib.lines.Line2D at 0x7f5d57a02a90>]"
      ]
     },
     "execution_count": 352,
     "metadata": {},
     "output_type": "execute_result"
    },
    {
     "data": {
      "image/png": "[encoded data removed]",
      "text/plain": [
       "<matplotlib.figure.Figure at 0x7f5d57aa39e8>"
      ]
     },
     "metadata": {},
     "output_type": "display_data"
    }
   ],
   "source": [
    "x = np.arange(0, 1, 0.001);\n",
    "u = 1-(1-((np.e)**(-10)))*(x)-(np.e)**(-10*x)\n",
    "plt.plot(u1Range, u1, 'r--')\n",
    "plt.plot(u2Range, u2, 'y--')\n",
    "plt.plot(u3Range, u3, 'b--')\n",
    "plt.plot(x, u, 'g--')"
   ]
  },
  {
   "cell_type": "markdown",
   "metadata": {},
   "source": [
    "__Part 1c__"
   ]
  },
  {
   "cell_type": "code",
   "execution_count": null,
   "metadata": {
    "collapsed": true
   },
   "outputs": [],
   "source": [
    "n=5;\n",
    "S = SpecialMatrix()\n",
    "f = h2DiscFncVec()\n",
    "SpecialForwardSub(S,f)\n",
    "SpecialBackSub(S,f)"
   ]
  },
  {
   "cell_type": "code",
   "execution_count": null,
   "metadata": {
    "collapsed": true
   },
   "outputs": [],
   "source": [
    "n=5;\n",
    "S = SpecialMatrix()\n",
    "f = h2DiscFncVec()\n",
    "TriForwardSub(S,f)\n",
    "TriBackSub(S,f)"
   ]
  },
  {
   "cell_type": "code",
   "execution_count": 20,
   "metadata": {
    "collapsed": true
   },
   "outputs": [],
   "source": [
    "n=1000;\n",
    "def fnc():\n",
    "    S = SpecialMatrix()\n",
    "    f = h2DiscFncVec()\n",
    "    TriForwardSub(S,f)\n",
    "    TriBackSub(S,f)\n",
    "    u = TriBackSub(S,f)\n",
    "    return u\n",
    "\n",
    "def SpecialFnc():\n",
    "    S = SpecialMatrix()\n",
    "    f = h2DiscFncVec()\n",
    "    SpecialForwardSub(S,f)\n",
    "    SpecialBackSub(S,f)\n",
    "    u = SpecialBackSub(S,f)\n",
    "    return u"
   ]
  },
  {
   "cell_type": "markdown",
   "metadata": {},
   "source": [
    "__Part 1c: Timing__"
   ]
  },
  {
   "cell_type": "code",
   "execution_count": 23,
   "metadata": {
    "collapsed": true
   },
   "outputs": [],
   "source": [
    "S = SpecialMatrix()\n",
    "f = h2DiscFncVec()"
   ]
  },
  {
   "cell_type": "code",
   "execution_count": 22,
   "metadata": {
    "collapsed": false
   },
   "outputs": [
    {
     "name": "stdout",
     "output_type": "stream",
     "text": [
      "0.03554759214165415\n"
     ]
    }
   ],
   "source": [
    "from timeit import default_timer as timer\n",
    "\n",
    "start = timer()\n",
    "SpecialForwardSub(S,f)\n",
    "SpecialBackSub(S,f)\n",
    "end = timer()\n",
    "print(end - start) "
   ]
  },
  {
   "cell_type": "code",
   "execution_count": 24,
   "metadata": {
    "collapsed": false
   },
   "outputs": [
    {
     "name": "stdout",
     "output_type": "stream",
     "text": [
      "0.034887413046917004\n"
     ]
    }
   ],
   "source": [
    "start = timer()\n",
    "SpecialForwardSub(S,f)\n",
    "SpecialBackSub(S,f)\n",
    "end = timer()\n",
    "print(end - start) "
   ]
  },
  {
   "cell_type": "markdown",
   "metadata": {},
   "source": [
    "__Part 1d: Error__"
   ]
  },
  {
   "cell_type": "code",
   "execution_count": 25,
   "metadata": {
    "collapsed": false
   },
   "outputs": [],
   "source": [
    "n=10;\n",
    "def error():\n",
    "    u = h2SoluVec()\n",
    "    v = SpecialFnc()\n",
    "    error = np.log10(np.absolute((v-u)/(u)))\n",
    "    return error"
   ]
  },
  {
   "cell_type": "markdown",
   "metadata": {},
   "source": [
    "_Make a table of the results for "
   ]
  },
  {
   "cell_type": "code",
   "execution_count": 26,
   "metadata": {
    "collapsed": false
   },
   "outputs": [
    {
     "data": {
      "text/plain": [
       "array([ -1.19652444,  -1.26639983,  -1.39015982,  -1.66170301,\n",
       "        -2.26102942,  -1.32834407,  -0.93375794,  -0.59200771,\n",
       "        -0.17113154,  16.15406044])"
      ]
     },
     "execution_count": 26,
     "metadata": {},
     "output_type": "execute_result"
    }
   ],
   "source": [
    "error()"
   ]
  },
  {
   "cell_type": "code",
   "execution_count": null,
   "metadata": {
    "collapsed": true
   },
   "outputs": [],
   "source": []
  }
 ],
 "metadata": {
  "anaconda-cloud": {},
  "kernelspec": {
   "display_name": "Python [default]",
   "language": "python",
   "name": "python3"
  },
  "language_info": {
   "codemirror_mode": {
    "name": "ipython",
    "version": 3
   },
   "file_extension": ".py",
   "mimetype": "text/x-python",
   "name": "python",
   "nbconvert_exporter": "python",
   "pygments_lexer": "ipython3",
   "version": "3.5.2"
  }
 },
 "nbformat": 4,
 "nbformat_minor": 1
}
