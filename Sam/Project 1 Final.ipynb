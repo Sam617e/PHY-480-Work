{
 "cells": [
  {
   "cell_type": "markdown",
   "metadata": {},
   "source": [
    "# Project 1\n",
    "## Sam Edwards\n",
    "\n",
    "_Should these cells be executed in order, they will answer each of the questions prompted by the Project1.pdf as they go. I tried to make it user friendly as possible, so you could see what my code does and where the numbers in my report came from._"
   ]
  },
  {
   "cell_type": "markdown",
   "metadata": {},
   "source": [
    "_You may initialize n here, or later._"
   ]
  },
  {
   "cell_type": "code",
   "execution_count": null,
   "metadata": {
    "collapsed": true
   },
   "outputs": [],
   "source": [
    "n=10;"
   ]
  },
  {
   "cell_type": "markdown",
   "metadata": {},
   "source": [
    "### The below cell defines every function used for each part of the question. Each function has a comment for its purpose. The substitution algorithms are in here."
   ]
  },
  {
   "cell_type": "code",
   "execution_count": 40,
   "metadata": {
    "collapsed": false
   },
   "outputs": [],
   "source": [
    "import numpy as np\n",
    "import sympy as sy\n",
    "import scipy\n",
    "from scipy import linalg\n",
    "import matplotlib.pyplot as plt\n",
    "%matplotlib inline\n",
    "\n",
    "\n",
    "#Returns the Tridiagonal Matrix special to our problem, with 2's and -1's.\n",
    "def SpecialMatrix():\n",
    "    T = np.zeros((n, n))\n",
    "    for i in range(0,n):\n",
    "        T[[i],[i]] = 2\n",
    "        if i < n-1:\n",
    "            T[[i],[i+1]] = -1\n",
    "            T[[i+1],[i]] = -1\n",
    "        else:\n",
    "            break;\n",
    "    return T\n",
    "\n",
    "#Returns a random Tridiagonal matrix, with no zeros on the three diagonals.\n",
    "#Also generates it in a way that takes care of a fringe case in forward substitution that causes division by zero\n",
    "def RandomTriMatrix():\n",
    "    T = np.zeros((n, n))\n",
    "    for i in range(0,n):\n",
    "        T[[i],[i]] = int(np.random.uniform(1,9))\n",
    "        if i < n-1:\n",
    "            T[[i],[i+1]] = int(np.random.uniform(1,9))\n",
    "            T[[i+1],[i]] = int(np.random.uniform(1,9))\n",
    "        else:\n",
    "            break;\n",
    "    for i in range(1,n):\n",
    "        if T[i][i] == (T[i][i-1]*T[i-1][i])/(T[i-1][i-1]):\n",
    "            T[[i],[i]] = int(np.random.uniform(1,9))\n",
    "        else:\n",
    "            T[i][i] = T[i][i]    \n",
    "    return T\n",
    "\n",
    "\n",
    "#Returns the vector \"b~\" as shown in Problem 1a\n",
    "def h2DiscFncVec():\n",
    "    f = np.zeros(n)\n",
    "    for i in range(0,n):\n",
    "        f[i] += 100*(np.e)**(-10*(i+1)/(n))\n",
    "    return f\n",
    "\n",
    "#Returns the discretized form of the function \"u\" given to us in problem 1a, multiplied by 1/(h^2)\n",
    "def h2SoluVec():\n",
    "    u = np.zeros(n)\n",
    "    for i in range(0,n):\n",
    "        u[i] += 1-(1-((np.e)**(-10)))*((i+1)/(n))-(np.e)**((-10*(i+1))/(n))\n",
    "    return u\n",
    "\n",
    "\n",
    "#Turns a tridiagonal matrix into an upper-triangular matrix through row operations\n",
    "#also applies these row operations to the discretized function vector \"b~\"\n",
    "def TriForwardSub(M, f):\n",
    "    for i in range(0,n-1):\n",
    "        f[i+1] += -(M[i+1][i]/M[i][i])*f[i]\n",
    "        M[i+1] += -((M[i+1][i])/(M[i][i]))*M[i]\n",
    "    return M, f\n",
    "\n",
    "#Faster forward substitution for the special matrix on our problem\n",
    "def SpecialForwardSub(M, f):\n",
    "    for i in range(0,n-1):\n",
    "        x = ((i+1)/(i+2))\n",
    "        f[i+1] += x*f[i]\n",
    "        M[i+1] += x*M[i]\n",
    "    return M, f\n",
    "\n",
    "#Solves for and prints the solution vector \"u\" that solves Au = b~\n",
    "def TriBackSub(M, f):\n",
    "    u = np.zeros(n)\n",
    "    u[n-1] = f[n-1]/M[n-1][n-1]\n",
    "    for i in range(n-2,-1,-1):\n",
    "        u[i] = (f[i]-(M[i][i+1])*u[i+1])/(M[i][i]);\n",
    "    for i in range(0,n):\n",
    "        u[i] = u[i]/(n**2)\n",
    "    return u\n",
    "\n",
    "#Faster backward substitution for the special matrix on our problem\n",
    "def SpecialBackSub(M, f):\n",
    "    u = np.zeros(n)\n",
    "    u[n-1] = f[n-1]/M[n-1][n-1]\n",
    "    for i in range(n-2,-1,-1):\n",
    "        u[i] = (f[i]+u[i+1])/(M[i][i]);\n",
    "    for i in range(0,n):\n",
    "        u[i] = u[i]/(n**2)\n",
    "    return u\n",
    "\n",
    "# Calls four of the functions above. It initializes the specialized matrix, the discretized function vector,\n",
    "# and performs the substitutions algorithms on them, returning n values of u at uniform intervals between 0 and 1.\n",
    "def fnc():\n",
    "    S = SpecialMatrix()\n",
    "    f = h2DiscFncVec()\n",
    "    TriForwardSub(S,f)\n",
    "    TriBackSub(S,f)\n",
    "    u = TriBackSub(S,f)\n",
    "    return u\n",
    "\n",
    "# Similar to fnc(); simply uses the special algorithms instead.\n",
    "def SpecialFnc():\n",
    "    S = SpecialMatrix()\n",
    "    f = h2DiscFncVec()\n",
    "    SpecialForwardSub(S,f)\n",
    "    SpecialBackSub(S,f)\n",
    "    u = SpecialBackSub(S,f)\n",
    "    return u"
   ]
  },
  {
   "cell_type": "markdown",
   "metadata": {},
   "source": [
    "__Below is an example of the general forward and backward substitutions working on a random tridiagonal matrix.__"
   ]
  },
  {
   "cell_type": "code",
   "execution_count": 19,
   "metadata": {
    "collapsed": true
   },
   "outputs": [
    {
     "data": {
      "text/plain": [
       "(array([[ 4.,  7.,  0.,  0.,  0.,  0.,  0.,  0.,  0.,  0.],\n",
       "        [ 5.,  3.,  1.,  0.,  0.,  0.,  0.,  0.,  0.,  0.],\n",
       "        [ 0.,  5.,  2.,  6.,  0.,  0.,  0.,  0.,  0.,  0.],\n",
       "        [ 0.,  0.,  8.,  8.,  3.,  0.,  0.,  0.,  0.,  0.],\n",
       "        [ 0.,  0.,  0.,  7.,  5.,  4.,  0.,  0.,  0.,  0.],\n",
       "        [ 0.,  0.,  0.,  0.,  6.,  3.,  6.,  0.,  0.,  0.],\n",
       "        [ 0.,  0.,  0.,  0.,  0.,  6.,  1.,  4.,  0.,  0.],\n",
       "        [ 0.,  0.,  0.,  0.,  0.,  0.,  2.,  2.,  2.,  0.],\n",
       "        [ 0.,  0.,  0.,  0.,  0.,  0.,  0.,  4.,  3.,  4.],\n",
       "        [ 0.,  0.,  0.,  0.,  0.,  0.,  0.,  0.,  4.,  1.]]),\n",
       " array([  3.67879441e+01,   1.35335283e+01,   4.97870684e+00,\n",
       "          1.83156389e+00,   6.73794700e-01,   2.47875218e-01,\n",
       "          9.11881966e-02,   3.35462628e-02,   1.23409804e-02,\n",
       "          4.53999298e-03]))"
      ]
     },
     "execution_count": 19,
     "metadata": {},
     "output_type": "execute_result"
    }
   ],
   "source": [
    "n=10;\n",
    "# This cell shows you the random matrix, and f. Feel free to change n.\n",
    "R = RandomTriMatrix()\n",
    "f = h2DiscFncVec()\n",
    "R, f"
   ]
  },
  {
   "cell_type": "code",
   "execution_count": 20,
   "metadata": {
    "collapsed": true
   },
   "outputs": [
    {
     "data": {
      "text/plain": [
       "array([-0.01176544,  0.05927731,  0.01633053, -0.04654342,  0.08667294,\n",
       "       -0.0252057 , -0.07365697,  0.05645076,  0.01737394, -0.06945036])"
      ]
     },
     "execution_count": 20,
     "metadata": {},
     "output_type": "execute_result"
    }
   ],
   "source": [
    "# This cell shows you the solution.\n",
    "TriForwardSub(R,f)\n",
    "TriBackSub(R,f)\n",
    "u = TriBackSub(R,f)\n",
    "u"
   ]
  },
  {
   "cell_type": "markdown",
   "metadata": {},
   "source": [
    "__Below is an example of the specialized forward and backward substitutions working on the special tridiagonal matrix.__"
   ]
  },
  {
   "cell_type": "code",
   "execution_count": 21,
   "metadata": {
    "collapsed": true
   },
   "outputs": [
    {
     "data": {
      "text/plain": [
       "(array([[ 2., -1.,  0.,  0.,  0.,  0.,  0.,  0.,  0.,  0.],\n",
       "        [-1.,  2., -1.,  0.,  0.,  0.,  0.,  0.,  0.,  0.],\n",
       "        [ 0., -1.,  2., -1.,  0.,  0.,  0.,  0.,  0.,  0.],\n",
       "        [ 0.,  0., -1.,  2., -1.,  0.,  0.,  0.,  0.,  0.],\n",
       "        [ 0.,  0.,  0., -1.,  2., -1.,  0.,  0.,  0.,  0.],\n",
       "        [ 0.,  0.,  0.,  0., -1.,  2., -1.,  0.,  0.,  0.],\n",
       "        [ 0.,  0.,  0.,  0.,  0., -1.,  2., -1.,  0.,  0.],\n",
       "        [ 0.,  0.,  0.,  0.,  0.,  0., -1.,  2., -1.,  0.],\n",
       "        [ 0.,  0.,  0.,  0.,  0.,  0.,  0., -1.,  2., -1.],\n",
       "        [ 0.,  0.,  0.,  0.,  0.,  0.,  0.,  0., -1.,  2.]]),\n",
       " array([  3.67879441e+01,   1.35335283e+01,   4.97870684e+00,\n",
       "          1.83156389e+00,   6.73794700e-01,   2.47875218e-01,\n",
       "          9.11881966e-02,   3.35462628e-02,   1.23409804e-02,\n",
       "          4.53999298e-03]))"
      ]
     },
     "execution_count": 21,
     "metadata": {},
     "output_type": "execute_result"
    }
   ],
   "source": [
    "n=10;\n",
    "# This cell shows you the specialized matrix, and f\n",
    "S = SpecialMatrix()\n",
    "f = h2DiscFncVec()\n",
    "S, f"
   ]
  },
  {
   "cell_type": "code",
   "execution_count": 22,
   "metadata": {
    "collapsed": true
   },
   "outputs": [
    {
     "data": {
      "text/plain": [
       "array([ 0.49828051,  0.62868157,  0.62374735,  0.56902606,  0.49598914,\n",
       "        0.41621426,  0.33396064,  0.25079513,  0.16729416,  0.08366978])"
      ]
     },
     "execution_count": 22,
     "metadata": {},
     "output_type": "execute_result"
    }
   ],
   "source": [
    "# This cell shows you the solution.\n",
    "TriForwardSub(S,f)\n",
    "TriBackSub(S,f)\n",
    "u = TriBackSub(S,f)\n",
    "u"
   ]
  },
  {
   "cell_type": "markdown",
   "metadata": {},
   "source": [
    "__Executing the next seven cells simply plots the n = 10, 100, & 1000 approximations against the continuous analytical function.__"
   ]
  },
  {
   "cell_type": "code",
   "execution_count": 24,
   "metadata": {
    "collapsed": false
   },
   "outputs": [],
   "source": [
    "n=10;\n",
    "S = SpecialMatrix()\n",
    "f = h2DiscFncVec()\n",
    "TriForwardSub(S,f)\n",
    "TriBackSub(S,f)\n",
    "u1 = TriBackSub(S,f)"
   ]
  },
  {
   "cell_type": "code",
   "execution_count": 25,
   "metadata": {
    "collapsed": false
   },
   "outputs": [],
   "source": [
    "u1Range = np.zeros(n)\n",
    "for i in range(0,n):\n",
    "    u1Range[i] = (i+1)/(n)"
   ]
  },
  {
   "cell_type": "code",
   "execution_count": 26,
   "metadata": {
    "collapsed": true
   },
   "outputs": [],
   "source": [
    "n=100;\n",
    "S = SpecialMatrix()\n",
    "f = h2DiscFncVec()\n",
    "TriForwardSub(S,f)\n",
    "TriBackSub(S,f)\n",
    "u2 = TriBackSub(S,f)"
   ]
  },
  {
   "cell_type": "code",
   "execution_count": 27,
   "metadata": {
    "collapsed": true
   },
   "outputs": [],
   "source": [
    "u2Range = np.zeros(n)\n",
    "for i in range(0,n):\n",
    "    u2Range[i] = (i)/(n)"
   ]
  },
  {
   "cell_type": "code",
   "execution_count": 28,
   "metadata": {
    "collapsed": true
   },
   "outputs": [],
   "source": [
    "n=1000;\n",
    "S = SpecialMatrix()\n",
    "f = h2DiscFncVec()\n",
    "TriForwardSub(S,f)\n",
    "TriBackSub(S,f)\n",
    "u3 = TriBackSub(S,f)"
   ]
  },
  {
   "cell_type": "code",
   "execution_count": 29,
   "metadata": {
    "collapsed": true
   },
   "outputs": [],
   "source": [
    "u3Range = np.zeros(n)\n",
    "for i in range(0,n):\n",
    "    u3Range[i] = (i)/(n)"
   ]
  },
  {
   "cell_type": "code",
   "execution_count": 30,
   "metadata": {
    "collapsed": false
   },
   "outputs": [
    {
     "data": {
      "text/plain": [
       "<matplotlib.legend.Legend at 0x7f50c7704128>"
      ]
     },
     "execution_count": 30,
     "metadata": {},
     "output_type": "execute_result"
    },
    {
     "data": {
      "image/png": "[encoded data removed]",
      "text/plain": [
       "<matplotlib.figure.Figure at 0x7f50c7b6a208>"
      ]
     },
     "metadata": {},
     "output_type": "display_data"
    }
   ],
   "source": [
    "x = np.arange(0, 1, 0.001);\n",
    "u = 1-(1-((np.e)**(-10)))*(x)-(np.e)**(-10*x)\n",
    "plt.plot(u1Range, u1, 'r--', label = '10')\n",
    "plt.plot(u2Range, u2, 'y--', label = '100')\n",
    "plt.plot(u3Range, u3, 'b--', label = '1000')\n",
    "plt.plot(x, u, 'g--', label = 'Analytical')\n",
    "plt.title('Analytical vs. Numerical')\n",
    "plt.ylabel('u values')\n",
    "plt.xlabel('x_i values')\n",
    "plt.legend(loc='best')"
   ]
  },
  {
   "cell_type": "markdown",
   "metadata": {},
   "source": [
    "__The following two cells are how I averaged the time for the special algorithms. I used a for loop to print out ten times, and then averaged them.__\n",
    "\n",
    "_Changing n here will show you the different average times._"
   ]
  },
  {
   "cell_type": "markdown",
   "metadata": {},
   "source": [
    "__Part 1c: Timing__"
   ]
  },
  {
   "cell_type": "code",
   "execution_count": 32,
   "metadata": {
    "collapsed": false
   },
   "outputs": [],
   "source": [
    "n=10;\n",
    "S = SpecialMatrix()\n",
    "f = h2DiscFncVec()"
   ]
  },
  {
   "cell_type": "code",
   "execution_count": 35,
   "metadata": {
    "collapsed": false
   },
   "outputs": [
    {
     "name": "stdout",
     "output_type": "stream",
     "text": [
      "0.00016579893417656422\n",
      "0.0001155780628323555\n",
      "0.00010278401896357536\n",
      "0.0001027979888021946\n",
      "0.0001229611225426197\n",
      "0.00010233698412775993\n",
      "0.00010807299986481667\n",
      "9.221304208040237e-05\n",
      "9.322888217866421e-05\n",
      "9.339791722595692e-05\n",
      "Average time is: 0.00010991699527949095\n"
     ]
    }
   ],
   "source": [
    "from timeit import default_timer as timer\n",
    "sum = 0;\n",
    "for i in range(0,10):\n",
    "    start = timer()\n",
    "    SpecialForwardSub(S,f)\n",
    "    SpecialBackSub(S,f)\n",
    "    end = timer()\n",
    "    print(end - start)\n",
    "    sum += (end - start)\n",
    "    \n",
    "print('Average time is:',sum / 10)"
   ]
  },
  {
   "cell_type": "markdown",
   "metadata": {},
   "source": [
    "__Part 1d: Error__"
   ]
  },
  {
   "cell_type": "code",
   "execution_count": null,
   "metadata": {
    "collapsed": true
   },
   "outputs": [],
   "source": [
    "#This is where the error function is defined.\n",
    "\n",
    "def error():\n",
    "    u = h2SoluVec()\n",
    "    v = SpecialFnc()\n",
    "    error = np.log10(np.absolute((v-u)/(u)))\n",
    "    return error"
   ]
  },
  {
   "cell_type": "markdown",
   "metadata": {},
   "source": [
    "_The next four cells do the same thing; they give the average error. Each cell is averaging over larger and larger numbers of errors as n increases. This is because n=10 only compares 10 discrete points against their values in the continuous analytical solution, but n=100 is comparing 100 discrete points. Etc._"
   ]
  },
  {
   "cell_type": "code",
   "execution_count": 17,
   "metadata": {
    "collapsed": false
   },
   "outputs": [
    {
     "data": {
      "text/plain": [
       "-1.2001175327200952"
      ]
     },
     "execution_count": 17,
     "metadata": {},
     "output_type": "execute_result"
    }
   ],
   "source": [
    "n=10;\n",
    "\n",
    "u = h2SoluVec()\n",
    "v = SpecialFnc()\n",
    "error = np.log10(np.absolute((v-u)/(u)))\n",
    "error10 = error\n",
    "error9 = np.zeros(n-1)\n",
    "for i in range(0,n-1):\n",
    "    error9[i] = error10[i]\n",
    "error9\n",
    "sum = 0;\n",
    "for i in range(0,n-1):\n",
    "    sum += error9[i]\n",
    "    \n",
    "average = sum/(n-1)\n",
    "average"
   ]
  },
  {
   "cell_type": "code",
   "execution_count": 21,
   "metadata": {
    "collapsed": false
   },
   "outputs": [
    {
     "data": {
      "text/plain": [
       "-2.0197669699141811"
      ]
     },
     "execution_count": 21,
     "metadata": {},
     "output_type": "execute_result"
    }
   ],
   "source": [
    "n=100;\n",
    "\n",
    "u = h2SoluVec()\n",
    "v = SpecialFnc()\n",
    "error = np.log10(np.absolute((v-u)/(u)))\n",
    "error100 = error\n",
    "error99 = np.zeros(n-1)\n",
    "for i in range(0,n-1):\n",
    "    error99[i] = error100[i]\n",
    "#np.amax(np.absolute(error99))\n",
    "sum = 0;\n",
    "for i in range(0,n-1):\n",
    "    sum += error99[i]\n",
    "    \n",
    "average = sum/(n-1)\n",
    "average\n"
   ]
  },
  {
   "cell_type": "code",
   "execution_count": 22,
   "metadata": {
    "collapsed": false
   },
   "outputs": [
    {
     "data": {
      "text/plain": [
       "-2.9285680794882682"
      ]
     },
     "execution_count": 22,
     "metadata": {},
     "output_type": "execute_result"
    }
   ],
   "source": [
    "n=1000;\n",
    "\n",
    "u = h2SoluVec()\n",
    "v = SpecialFnc()\n",
    "error = np.log10(np.absolute((v-u)/(u)))\n",
    "error1000 = error\n",
    "error999 = np.zeros(n-1)\n",
    "for i in range(0,n-1):\n",
    "    error999[i] = error1000[i]\n",
    "#np.amax(np.absolute(error999))\n",
    "sum = 0;\n",
    "for i in range(0,n-1):\n",
    "    sum += error999[i]\n",
    "    \n",
    "average = sum/(n-1)\n",
    "average"
   ]
  },
  {
   "cell_type": "code",
   "execution_count": 23,
   "metadata": {
    "collapsed": false
   },
   "outputs": [
    {
     "data": {
      "text/plain": [
       "-3.9207672723033653"
      ]
     },
     "execution_count": 23,
     "metadata": {},
     "output_type": "execute_result"
    }
   ],
   "source": [
    "n=10000;\n",
    "\n",
    "u = h2SoluVec()\n",
    "v = SpecialFnc()\n",
    "error = np.log10(np.absolute((v-u)/(u)))\n",
    "error10000 = error\n",
    "error9999 = np.zeros(n-1)\n",
    "for i in range(0,n-1):\n",
    "    error9999[i] = error10000[i]\n",
    "#np.amax(np.absolute(error9999))\n",
    "\n",
    "sum = 0;\n",
    "for i in range(0,n-1):\n",
    "    sum += error9999[i]\n",
    "    \n",
    "average = sum/(n-1)\n",
    "average"
   ]
  },
  {
   "cell_type": "markdown",
   "metadata": {},
   "source": [
    "__LU Decomposition__\n",
    "\n",
    "_Here, the LU Decomposition can be timed for different n values by changing n in the first cell and executing them in sequence. It works just like the previous timing cells above._\n",
    "\n",
    "_Be careful about going above n=1000_"
   ]
  },
  {
   "cell_type": "code",
   "execution_count": 37,
   "metadata": {
    "collapsed": false
   },
   "outputs": [],
   "source": [
    "n=10;"
   ]
  },
  {
   "cell_type": "code",
   "execution_count": 38,
   "metadata": {
    "collapsed": false
   },
   "outputs": [],
   "source": [
    "S = SpecialMatrix()\n",
    "y = h2DiscFncVec()/100"
   ]
  },
  {
   "cell_type": "code",
   "execution_count": 39,
   "metadata": {
    "collapsed": false
   },
   "outputs": [
    {
     "name": "stdout",
     "output_type": "stream",
     "text": [
      "0.0010698139667510986\n",
      "0.00032869097776710987\n",
      "0.0002753098960965872\n",
      "0.00026271003298461437\n",
      "0.0002756889443844557\n",
      "0.0002553500235080719\n",
      "0.00025881710462272167\n",
      "0.000251248013228178\n",
      "0.0002678080927580595\n",
      "0.0002511588390916586\n",
      "Average time: 0.00034965958911925554\n"
     ]
    }
   ],
   "source": [
    "from timeit import default_timer as timer\n",
    "sum = 0;\n",
    "for i in range(0,10):\n",
    "    start = timer()\n",
    "    L_S = scipy.linalg.lu(S)[1]\n",
    "    U_S = scipy.linalg.lu(S)[2]\n",
    "    z = linalg.solve(L_S,y)\n",
    "    end = timer()\n",
    "    print(end - start)\n",
    "    sum += (end - start)\n",
    "    \n",
    "print(\"Average time:\", sum / 10)\n",
    "\n"
   ]
  },
  {
   "cell_type": "code",
   "execution_count": null,
   "metadata": {
    "collapsed": true
   },
   "outputs": [],
   "source": []
  }
 ],
 "metadata": {
  "anaconda-cloud": {},
  "kernelspec": {
   "display_name": "Python 3",
   "language": "python",
   "name": "python3"
  },
  "language_info": {
   "codemirror_mode": {
    "name": "ipython",
    "version": 3
   },
   "file_extension": ".py",
   "mimetype": "text/x-python",
   "name": "python",
   "nbconvert_exporter": "python",
   "pygments_lexer": "ipython3",
   "version": "3.5.2"
  }
 },
 "nbformat": 4,
 "nbformat_minor": 1
}
